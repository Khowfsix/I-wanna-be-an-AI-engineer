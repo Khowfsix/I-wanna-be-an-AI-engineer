{
 "cells": [
  {
   "cell_type": "code",
   "execution_count": 34,
   "id": "f8a46464",
   "metadata": {},
   "outputs": [],
   "source": [
    "from sklearn.datasets import load_iris\n",
    "from sklearn.model_selection import train_test_split"
   ]
  },
  {
   "cell_type": "code",
   "execution_count": 35,
   "id": "fc4fcfc8",
   "metadata": {},
   "outputs": [],
   "source": [
    "import torch\n",
    "import torch.nn as nn\n",
    "import torch.optim as optim\n",
    "import numpy as np"
   ]
  },
  {
   "cell_type": "markdown",
   "id": "9ee10ee3",
   "metadata": {},
   "source": [
    "### Phân lớp nhị phân"
   ]
  },
  {
   "cell_type": "code",
   "execution_count": 36,
   "id": "74eb0f5b",
   "metadata": {},
   "outputs": [],
   "source": [
    "iris = load_iris()\n",
    "X = iris.data[iris.target != 2]\n",
    "y = iris.target[iris.target != 2]"
   ]
  },
  {
   "cell_type": "code",
   "execution_count": 37,
   "id": "bec5dbda",
   "metadata": {
    "scrolled": true
   },
   "outputs": [],
   "source": [
    "X_train, X_test, y_train, y_test = train_test_split(X, y, test_size=0.2)"
   ]
  },
  {
   "cell_type": "code",
   "execution_count": 38,
   "id": "1f7b3253",
   "metadata": {},
   "outputs": [],
   "source": [
    "input_size = 4  # Số lượng đặc trưng trong tập dữ liệu iris\n",
    "hidden_size = 8  # Số lượng đơn vị ẩn trong lớp ẩn\n",
    "output_size = 1  # Chỉ có một lớp đầu ra (binary classification)"
   ]
  },
  {
   "cell_type": "code",
   "execution_count": 39,
   "id": "6a931150",
   "metadata": {},
   "outputs": [],
   "source": [
    "class Net(nn.Module):\n",
    "    def __init__(self, input_size, hidden_size, output_size):\n",
    "        super(Net, self).__init__()\n",
    "        self.fc1 = nn.Linear(input_size, hidden_size)\n",
    "        self.relu = nn.ReLU()\n",
    "        self.fc2 = nn.Linear(hidden_size, output_size)\n",
    "        self.sigmoid = nn.Sigmoid()\n",
    "\n",
    "    def forward(self, x):\n",
    "        x = self.fc1(x)\n",
    "        x = self.relu(x)\n",
    "        x = self.fc2(x)\n",
    "        x = self.sigmoid(x)\n",
    "        return x"
   ]
  },
  {
   "cell_type": "code",
   "execution_count": 40,
   "id": "ef7a3932",
   "metadata": {},
   "outputs": [],
   "source": [
    "model = Net(input_size, hidden_size, output_size)"
   ]
  },
  {
   "cell_type": "code",
   "execution_count": 41,
   "id": "2ea628c2",
   "metadata": {},
   "outputs": [],
   "source": [
    "criterion = nn.BCELoss()\n",
    "optimizer = optim.SGD(model.parameters(), lr=0.01)"
   ]
  },
  {
   "cell_type": "code",
   "execution_count": 42,
   "id": "b5e5c0d1",
   "metadata": {},
   "outputs": [
    {
     "name": "stdout",
     "output_type": "stream",
     "text": [
      "Epoch [10/100], Loss: 0.6428\n",
      "Epoch [20/100], Loss: 0.5902\n",
      "Epoch [30/100], Loss: 0.5463\n",
      "Epoch [40/100], Loss: 0.5070\n",
      "Epoch [50/100], Loss: 0.4708\n",
      "Epoch [60/100], Loss: 0.4372\n",
      "Epoch [70/100], Loss: 0.4060\n",
      "Epoch [80/100], Loss: 0.3769\n",
      "Epoch [90/100], Loss: 0.3500\n",
      "Epoch [100/100], Loss: 0.3251\n"
     ]
    }
   ],
   "source": [
    "num_epochs = 100\n",
    "\n",
    "for epoch in range(num_epochs):\n",
    "    # chuyen du lieu thanh tensor\n",
    "    inputs = torch.from_numpy(X_train).float()\n",
    "    targets = torch.from_numpy(y_train).float()\n",
    "\n",
    "    # Forward\n",
    "    outputs = model(inputs)\n",
    "    loss = criterion(outputs, targets.view(-1, 1))\n",
    "\n",
    "    # Backward and optimize\n",
    "    optimizer.zero_grad()\n",
    "    loss.backward()\n",
    "    optimizer.step()\n",
    "\n",
    "    # Print loss every 10 epochs\n",
    "    if (epoch + 1) % 10 == 0:\n",
    "        print('Epoch [{}/{}], Loss: {:.4f}'.format(epoch + 1, num_epochs, loss.item()))\n"
   ]
  },
  {
   "cell_type": "code",
   "execution_count": 43,
   "id": "9fd55b8a",
   "metadata": {},
   "outputs": [],
   "source": [
    "with torch.no_grad():\n",
    "    inputs = torch.from_numpy(X_test).float()\n",
    "    targets = torch.from_numpy(y_test)"
   ]
  },
  {
   "cell_type": "code",
   "execution_count": 44,
   "id": "74750400",
   "metadata": {},
   "outputs": [
    {
     "name": "stdout",
     "output_type": "stream",
     "text": [
      "Accuracy on test set: 100.00%\n"
     ]
    }
   ],
   "source": [
    "# Convert probabilities to binary predictions\n",
    "predicted = model(inputs)\n",
    "predicted = predicted.round()\n",
    "\n",
    "# Calculate accuracy\n",
    "accuracy = (predicted == targets.view(-1, 1)).sum().item() / len(targets)\n",
    "\n",
    "print('Accuracy on test set: {:.2f}%'.format(accuracy * 100))"
   ]
  },
  {
   "cell_type": "code",
   "execution_count": 48,
   "id": "8928c47f",
   "metadata": {
    "scrolled": true
   },
   "outputs": [
    {
     "data": {
      "text/plain": [
       "tensor([[0.]], grad_fn=<RoundBackward0>)"
      ]
     },
     "execution_count": 48,
     "metadata": {},
     "output_type": "execute_result"
    }
   ],
   "source": [
    "sample = torch.tensor([[5.2000, 3.5000, 1.5000, 0.2000]])\n",
    "predicted = model(sample)\n",
    "predicted.round()"
   ]
  },
  {
   "cell_type": "markdown",
   "id": "86ab9873",
   "metadata": {},
   "source": [
    "### Phân lớp nhiều nhãn"
   ]
  },
  {
   "cell_type": "code",
   "execution_count": 49,
   "id": "fbcab784",
   "metadata": {},
   "outputs": [],
   "source": [
    "X, y = iris.data, iris.target"
   ]
  },
  {
   "cell_type": "code",
   "execution_count": 50,
   "id": "a52c4bce",
   "metadata": {},
   "outputs": [],
   "source": [
    "# Split dataset into train and test sets\n",
    "X_train, X_test, y_train, y_test = train_test_split(X, y, test_size=0.2)\n",
    "\n",
    "# Convert numpy arrays to PyTorch tensors\n",
    "X_train = torch.tensor(X_train, dtype=torch.float32)\n",
    "y_train = torch.tensor(y_train, dtype=torch.int64)\n",
    "X_test = torch.tensor(X_test, dtype=torch.float32)\n",
    "y_test = torch.tensor(y_test, dtype=torch.int64)\n"
   ]
  },
  {
   "cell_type": "code",
   "execution_count": 51,
   "id": "9be08363",
   "metadata": {},
   "outputs": [],
   "source": [
    "class IrisNet(nn.Module):\n",
    "    def __init__(self, input_size, hidden_size, output_size):\n",
    "        super(IrisNet, self).__init__()\n",
    "        self.fc1 = nn.Linear(input_size, hidden_size)\n",
    "        self.fc2 = nn.Linear(hidden_size, output_size)\n",
    "\n",
    "    def forward(self, x):\n",
    "        x = torch.relu(self.fc1(x))\n",
    "        x = self.fc2(x)\n",
    "        return x"
   ]
  },
  {
   "cell_type": "code",
   "execution_count": 52,
   "id": "be3af371",
   "metadata": {},
   "outputs": [],
   "source": [
    "# Set hyperparameters\n",
    "input_size = 4\n",
    "hidden_size = 10\n",
    "output_size = 3\n",
    "learning_rate = 0.01\n",
    "num_epochs = 1000"
   ]
  },
  {
   "cell_type": "code",
   "execution_count": 53,
   "id": "1af98ce2",
   "metadata": {},
   "outputs": [],
   "source": [
    "# Initialize neural network\n",
    "model = IrisNet(input_size, hidden_size, output_size)"
   ]
  },
  {
   "cell_type": "code",
   "execution_count": 54,
   "id": "8194e02d",
   "metadata": {},
   "outputs": [],
   "source": [
    "criterion = nn.CrossEntropyLoss()\n",
    "optimizer = optim.SGD(model.parameters(), lr=learning_rate)"
   ]
  },
  {
   "cell_type": "code",
   "execution_count": 55,
   "id": "1caa124f",
   "metadata": {},
   "outputs": [
    {
     "name": "stdout",
     "output_type": "stream",
     "text": [
      "Epoch [100/1000], Loss: 0.7210\n",
      "Epoch [200/1000], Loss: 0.5341\n",
      "Epoch [300/1000], Loss: 0.4441\n",
      "Epoch [400/1000], Loss: 0.3880\n",
      "Epoch [500/1000], Loss: 0.3443\n",
      "Epoch [600/1000], Loss: 0.3073\n",
      "Epoch [700/1000], Loss: 0.2757\n",
      "Epoch [800/1000], Loss: 0.2489\n",
      "Epoch [900/1000], Loss: 0.2263\n",
      "Epoch [1000/1000], Loss: 0.2074\n"
     ]
    }
   ],
   "source": [
    "# Train model\n",
    "for epoch in range(num_epochs):\n",
    "    # Forward pass\n",
    "    outputs = model(X_train)\n",
    "    loss = criterion(outputs, y_train)\n",
    "\n",
    "    # Backward pass and optimize\n",
    "    optimizer.zero_grad()\n",
    "    loss.backward()\n",
    "    optimizer.step()\n",
    "\n",
    "    # Print loss every 100 epochs\n",
    "    if (epoch+1) % 100 == 0:\n",
    "        print('Epoch [{}/{}], Loss: {:.4f}'.format(epoch+1, num_epochs, loss.item()))"
   ]
  },
  {
   "cell_type": "code",
   "execution_count": 56,
   "id": "492340c6",
   "metadata": {},
   "outputs": [
    {
     "name": "stdout",
     "output_type": "stream",
     "text": [
      "Accuracy on test set: 100.00%\n"
     ]
    }
   ],
   "source": [
    "# Evaluate model on test set\n",
    "with torch.no_grad():\n",
    "    # Forward pass\n",
    "    outputs = model(X_test)\n",
    "    _, predicted = torch.max(outputs.data, 1)\n",
    "\n",
    "    # Calculate accuracy\n",
    "    accuracy = (predicted == y_test).sum().item() / len(y_test)\n",
    "    print('Accuracy on test set: {:.2f}%'.format(accuracy * 100))"
   ]
  },
  {
   "cell_type": "code",
   "execution_count": 58,
   "id": "280969bf",
   "metadata": {},
   "outputs": [
    {
     "data": {
      "text/plain": [
       "tensor([[ 6.0149,  2.1836, -7.5481]], grad_fn=<AddmmBackward0>)"
      ]
     },
     "execution_count": 58,
     "metadata": {},
     "output_type": "execute_result"
    }
   ],
   "source": [
    "sample = torch.tensor([[5.2000, 3.5000, 1.5000, 0.2000]])\n",
    "predicted = model(sample)\n",
    "predicted"
   ]
  },
  {
   "cell_type": "code",
   "execution_count": 60,
   "id": "d9526c45",
   "metadata": {},
   "outputs": [
    {
     "data": {
      "text/plain": [
       "0"
      ]
     },
     "execution_count": 60,
     "metadata": {},
     "output_type": "execute_result"
    }
   ],
   "source": [
    "np.argmax(predicted.detach().numpy())"
   ]
  },
  {
   "cell_type": "code",
   "execution_count": null,
   "id": "68eccf6a",
   "metadata": {},
   "outputs": [],
   "source": []
  }
 ],
 "metadata": {
  "kernelspec": {
   "display_name": "Python 3 (ipykernel)",
   "language": "python",
   "name": "python3"
  },
  "language_info": {
   "codemirror_mode": {
    "name": "ipython",
    "version": 3
   },
   "file_extension": ".py",
   "mimetype": "text/x-python",
   "name": "python",
   "nbconvert_exporter": "python",
   "pygments_lexer": "ipython3",
   "version": "3.10.9"
  }
 },
 "nbformat": 4,
 "nbformat_minor": 5
}
