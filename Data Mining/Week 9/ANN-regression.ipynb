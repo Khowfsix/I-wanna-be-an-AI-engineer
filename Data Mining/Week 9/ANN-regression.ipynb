{
 "cells": [
  {
   "cell_type": "code",
   "execution_count": 42,
   "id": "4bf6cddb",
   "metadata": {},
   "outputs": [],
   "source": [
    "import torch\n",
    "import torch.nn as nn\n",
    "import torch.optim as optim"
   ]
  },
  {
   "cell_type": "markdown",
   "id": "9f0912b0",
   "metadata": {},
   "source": [
    "### Cấu trúc tập dữ liệu, kích thước đầu vào, đầu ra của mô hình"
   ]
  },
  {
   "cell_type": "code",
   "execution_count": 43,
   "id": "f9d3476d",
   "metadata": {},
   "outputs": [],
   "source": [
    "input_size = 3\n",
    "hidden_size = 5\n",
    "output_size = 1"
   ]
  },
  {
   "cell_type": "code",
   "execution_count": 44,
   "id": "70fe229f",
   "metadata": {},
   "outputs": [],
   "source": [
    "# Tạo dữ liệu huấn luyện giả lập\n",
    "x = torch.randn(100, input_size)\n",
    "y = torch.randn(100, output_size)"
   ]
  },
  {
   "cell_type": "markdown",
   "id": "ae66292a",
   "metadata": {},
   "source": [
    "### Xây dựng mô hình\n",
    "* 1 hidden layer\n",
    "* 2 lớp tuyến tính và 1 lớp kích hoạt ReLU"
   ]
  },
  {
   "cell_type": "code",
   "execution_count": 45,
   "id": "c32ef54e",
   "metadata": {},
   "outputs": [],
   "source": [
    "class Regression(nn.Module):\n",
    "    def __init__(self, input_size, hidden_size, output_size):\n",
    "        super(Regression, self).__init__()\n",
    "\n",
    "        # Khởi tạo lớp tuyến tính thứ nhất\n",
    "        self.linear1 = nn.Linear(input_size, hidden_size)\n",
    "\n",
    "        # Khởi tạo lớp kích hoạt ReLU\n",
    "        self.relu = nn.ReLU()\n",
    "\n",
    "        # Khởi tạo lớp tuyến tính thứ hai\n",
    "        self.linear2 = nn.Linear(hidden_size, output_size)\n",
    "\n",
    "    def forward(self, x):\n",
    "\n",
    "        # Đưa đầu vào qua lớp tuyến tính thứ nhất và kích hoạt ReLU\n",
    "        out = self.linear1(x)\n",
    "        out = self.relu(out)\n",
    "\n",
    "        # Đưa kết quả từ lớp tuyến tính thứ nhất qua lớp tuyến tính thứ hai\n",
    "        out = self.linear2(out)\n",
    "\n",
    "        return out\n"
   ]
  },
  {
   "cell_type": "code",
   "execution_count": 46,
   "id": "c1cb040f",
   "metadata": {},
   "outputs": [],
   "source": [
    "model = Regression(input_size, hidden_size, output_size)"
   ]
  },
  {
   "cell_type": "markdown",
   "id": "d8fcb3ba",
   "metadata": {},
   "source": [
    "### Xác định hàm lỗi, thuật toán tối ưu, learning rate, số lần huấn luyện (epoch)"
   ]
  },
  {
   "cell_type": "code",
   "execution_count": 47,
   "id": "ff6ee24f",
   "metadata": {},
   "outputs": [],
   "source": [
    "criterion = nn.MSELoss()\n",
    "optimizer = torch.optim.SGD(model.parameters(), lr=0.01)"
   ]
  },
  {
   "cell_type": "code",
   "execution_count": 48,
   "id": "3364d9d0",
   "metadata": {},
   "outputs": [
    {
     "name": "stdout",
     "output_type": "stream",
     "text": [
      "Epoch [100/1000], Loss: 0.9731\n",
      "Epoch [200/1000], Loss: 0.9545\n",
      "Epoch [300/1000], Loss: 0.9430\n",
      "Epoch [400/1000], Loss: 0.9326\n",
      "Epoch [500/1000], Loss: 0.9225\n",
      "Epoch [600/1000], Loss: 0.9181\n",
      "Epoch [700/1000], Loss: 0.9145\n",
      "Epoch [800/1000], Loss: 0.9110\n",
      "Epoch [900/1000], Loss: 0.9034\n",
      "Epoch [1000/1000], Loss: 0.8974\n"
     ]
    }
   ],
   "source": [
    "# Huấn luyện mô hình\n",
    "num_epochs = 1000\n",
    "for epoch in range(num_epochs):\n",
    "    # Đưa dữ liệu qua mô hình để tính toán đầu ra\n",
    "    y_pred = model(x)\n",
    "\n",
    "    # Tính độ lỗi giữa đầu ra dự đoán và đầu ra thực tế\n",
    "    loss = criterion(y_pred, y)\n",
    "\n",
    "    # Thực hiện lan truyền ngược và cập nhật trọng số\n",
    "    optimizer.zero_grad()\n",
    "    loss.backward()\n",
    "    optimizer.step()\n",
    "\n",
    "    # In ra kết quả sau mỗi 100 epoch\n",
    "    if (epoch+1) % 100 == 0:\n",
    "        print(f'Epoch [{epoch+1}/{num_epochs}], Loss: {loss.item():.4f}')"
   ]
  },
  {
   "cell_type": "markdown",
   "id": "f2f16b3b",
   "metadata": {},
   "source": [
    "### Kiểm tra"
   ]
  },
  {
   "cell_type": "code",
   "execution_count": 50,
   "id": "368aaf0e",
   "metadata": {},
   "outputs": [
    {
     "name": "stdout",
     "output_type": "stream",
     "text": [
      "Test Loss: 1.1962\n"
     ]
    }
   ],
   "source": [
    "# Tạo dữ liệu kiểm tra giả lập\n",
    "x_test = torch.randn(10, input_size)\n",
    "y_test = torch.randn(10, output_size)\n",
    "\n",
    "# Đưa dữ liệu qua mô hình để tính toán đầu ra\n",
    "y_pred = model(x_test)\n",
    "\n",
    "# Tính độ lỗi giữa đầu ra dự đoán và đầu ra thực tế\n",
    "test_loss = criterion(y_pred, y_test)\n",
    "\n",
    "print(f'Test Loss: {test_loss.item():.4f}')"
   ]
  },
  {
   "cell_type": "code",
   "execution_count": 51,
   "id": "0690cba9",
   "metadata": {},
   "outputs": [],
   "source": [
    "test_sample_1 = torch.tensor([[-1.1188e+00,  4.3539e-01, -5.8598e-01]])\n",
    "y_pred_sample = model(test_sample_1)"
   ]
  },
  {
   "cell_type": "code",
   "execution_count": 52,
   "id": "de8ebabb",
   "metadata": {},
   "outputs": [
    {
     "data": {
      "text/plain": [
       "tensor([[0.2686]], grad_fn=<AddmmBackward0>)"
      ]
     },
     "execution_count": 52,
     "metadata": {},
     "output_type": "execute_result"
    }
   ],
   "source": [
    "y_pred_sample"
   ]
  },
  {
   "cell_type": "code",
   "execution_count": null,
   "id": "d68a83bb",
   "metadata": {},
   "outputs": [],
   "source": []
  }
 ],
 "metadata": {
  "kernelspec": {
   "display_name": "Python 3 (ipykernel)",
   "language": "python",
   "name": "python3"
  },
  "language_info": {
   "codemirror_mode": {
    "name": "ipython",
    "version": 3
   },
   "file_extension": ".py",
   "mimetype": "text/x-python",
   "name": "python",
   "nbconvert_exporter": "python",
   "pygments_lexer": "ipython3",
   "version": "3.10.9"
  }
 },
 "nbformat": 4,
 "nbformat_minor": 5
}
