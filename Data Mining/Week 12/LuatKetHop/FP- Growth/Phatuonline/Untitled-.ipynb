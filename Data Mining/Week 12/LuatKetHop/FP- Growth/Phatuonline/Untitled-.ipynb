{
 "cells": [
  {
   "cell_type": "code",
   "execution_count": 15,
   "metadata": {},
   "outputs": [
    {
     "name": "stdout",
     "output_type": "stream",
     "text": [
      "Độ chính xác trên tập test là: 98.24561476707458 %\n"
     ]
    }
   ],
   "source": [
    "import pandas as pd\n",
    "import numpy as np\n",
    "from sklearn.model_selection import train_test_split\n",
    "from sklearn.preprocessing import StandardScaler\n",
    "from keras.models import Sequential\n",
    "from keras.layers import Dense\n",
    "\n",
    "# URL của tập dữ liệu Breast Cancer Wisconsin (Diagnostic)\n",
    "url = \"https://archive.ics.uci.edu/ml/machine-learning-databases/breast-cancer-wisconsin/wdbc.data\"\n",
    "\n",
    "# Đọc dữ liệu từ URL và đưa vào DataFrame\n",
    "data = pd.read_csv(url, header=None)\n",
    "\n",
    "# Chuyển đổi biến target thành các số nguyên\n",
    "data[1] = data[1].map({'M': 1, 'B': 0})\n",
    "\n",
    "# Chia tập dữ liệu thành tập train và tập test\n",
    "X = data.drop([0, 1], axis=1)\n",
    "y = data[1]\n",
    "X_train, X_test, y_train, y_test = train_test_split(X, y, test_size=0.2, random_state=42)\n",
    "\n",
    "# Chuẩn hóa dữ liệu\n",
    "sc = StandardScaler()\n",
    "X_train = sc.fit_transform(X_train)\n",
    "X_test = sc.transform(X_test)\n",
    "\n",
    "# Xây dựng mô hình ANN\n",
    "model = Sequential()\n",
    "model.add(Dense(16, activation='relu', input_dim=X_train.shape[1]))\n",
    "model.add(Dense(8, activation='relu'))\n",
    "model.add(Dense(1, activation='sigmoid'))\n",
    "model.compile(optimizer='adam', loss='binary_crossentropy', metrics=['accuracy'])\n",
    "\n",
    "# Huấn luyện mô hình\n",
    "history = model.fit(X_train, y_train, batch_size=32, epochs=100, validation_split=0.2, verbose=0)\n",
    "\n",
    "# Đánh giá độ chính xác của mô hình trên tập test\n",
    "loss, accuracy = model.evaluate(X_test, y_test, verbose=0)\n",
    "print(\"Độ chính xác trên tập test là:\", accuracy*100, \"%\")\n"
   ]
  }
 ],
 "metadata": {
  "kernelspec": {
   "display_name": "Python 3",
   "language": "python",
   "name": "python3"
  },
  "language_info": {
   "codemirror_mode": {
    "name": "ipython",
    "version": 3
   },
   "file_extension": ".py",
   "mimetype": "text/x-python",
   "name": "python",
   "nbconvert_exporter": "python",
   "pygments_lexer": "ipython3",
   "version": "3.11.0"
  },
  "orig_nbformat": 4
 },
 "nbformat": 4,
 "nbformat_minor": 2
}
