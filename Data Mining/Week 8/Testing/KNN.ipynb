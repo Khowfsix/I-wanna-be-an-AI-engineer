{
 "cells": [
  {
   "cell_type": "code",
   "execution_count": 76,
   "metadata": {},
   "outputs": [],
   "source": [
    "from __future__ import print_function\n",
    "import numpy as np\n",
    "from sklearn import neighbors\n",
    "from sklearn.model_selection import train_test_split # for splitting data\n",
    "from sklearn import metrics\n",
    "\n",
    "import pandas as pd"
   ]
  },
  {
   "attachments": {},
   "cell_type": "markdown",
   "metadata": {},
   "source": [
    "## read data from csv"
   ]
  },
  {
   "cell_type": "code",
   "execution_count": 77,
   "metadata": {},
   "outputs": [],
   "source": [
    "linearDF = pd.read_csv('./linear.csv')"
   ]
  },
  {
   "cell_type": "code",
   "execution_count": 78,
   "metadata": {},
   "outputs": [
    {
     "data": {
      "text/html": [
       "<div>\n",
       "<style scoped>\n",
       "    .dataframe tbody tr th:only-of-type {\n",
       "        vertical-align: middle;\n",
       "    }\n",
       "\n",
       "    .dataframe tbody tr th {\n",
       "        vertical-align: top;\n",
       "    }\n",
       "\n",
       "    .dataframe thead th {\n",
       "        text-align: right;\n",
       "    }\n",
       "</style>\n",
       "<table border=\"1\" class=\"dataframe\">\n",
       "  <thead>\n",
       "    <tr style=\"text-align: right;\">\n",
       "      <th></th>\n",
       "      <th>x</th>\n",
       "      <th>y</th>\n",
       "    </tr>\n",
       "  </thead>\n",
       "  <tbody>\n",
       "    <tr>\n",
       "      <th>0</th>\n",
       "      <td>77</td>\n",
       "      <td>79.775152</td>\n",
       "    </tr>\n",
       "    <tr>\n",
       "      <th>1</th>\n",
       "      <td>21</td>\n",
       "      <td>23.177279</td>\n",
       "    </tr>\n",
       "    <tr>\n",
       "      <th>2</th>\n",
       "      <td>22</td>\n",
       "      <td>25.609262</td>\n",
       "    </tr>\n",
       "    <tr>\n",
       "      <th>3</th>\n",
       "      <td>20</td>\n",
       "      <td>17.857388</td>\n",
       "    </tr>\n",
       "    <tr>\n",
       "      <th>4</th>\n",
       "      <td>36</td>\n",
       "      <td>41.849864</td>\n",
       "    </tr>\n",
       "  </tbody>\n",
       "</table>\n",
       "</div>"
      ],
      "text/plain": [
       "    x          y\n",
       "0  77  79.775152\n",
       "1  21  23.177279\n",
       "2  22  25.609262\n",
       "3  20  17.857388\n",
       "4  36  41.849864"
      ]
     },
     "execution_count": 78,
     "metadata": {},
     "output_type": "execute_result"
    }
   ],
   "source": [
    "linearDF.head()"
   ]
  },
  {
   "cell_type": "code",
   "execution_count": 79,
   "metadata": {},
   "outputs": [
    {
     "data": {
      "text/plain": [
       "array([79.77515201, 23.17727887, 25.60926156, 17.85738813, 41.84986439,\n",
       "        9.80523488, 58.87465933, 97.61793701, 18.39512747,  8.74674765])"
      ]
     },
     "execution_count": 79,
     "metadata": {},
     "output_type": "execute_result"
    }
   ],
   "source": [
    "# Lấy giá trị y ra 1 mảng từ dataframe\n",
    "yArray = linearDF[\"y\"].to_numpy()\n",
    "yArray[:10]"
   ]
  },
  {
   "cell_type": "code",
   "execution_count": 80,
   "metadata": {},
   "outputs": [
    {
     "data": {
      "text/plain": [
       "array([77, 21, 22, 20, 36, 15, 62, 95, 20,  5], dtype=int64)"
      ]
     },
     "execution_count": 80,
     "metadata": {},
     "output_type": "execute_result"
    }
   ],
   "source": [
    "# tương tự với mảng x\n",
    "xArray = linearDF[\"x\"].to_numpy()\n",
    "xArray[:10]"
   ]
  },
  {
   "cell_type": "code",
   "execution_count": 83,
   "metadata": {},
   "outputs": [],
   "source": [
    "# Chia tập dữ liệu thành 2 tập train và test\n",
    "X_train, X_test, y_train, y_test = train_test_split(xArray, yArray, random_state=10)"
   ]
  },
  {
   "cell_type": "code",
   "execution_count": 112,
   "metadata": {},
   "outputs": [
    {
     "data": {
      "text/plain": [
       "array([ 97.1082562 ,  16.27930025,  97.1082562 , 104.4884975 ,\n",
       "        23.91657301,  97.1082562 ,  51.57326718, 104.4884975 ,\n",
       "        -2.7611826 ,  21.49879735,  45.96396877,  77.55021421,\n",
       "        91.30823453,  58.51434364,   8.74674765,  77.91032969,\n",
       "        31.68294168,  21.49879735,  48.8338439 ,  21.32273728,\n",
       "        52.01932286,  53.19294125,  62.71453064,  84.92113014,\n",
       "        49.49983031,  48.8338439 ,  62.71453064,  74.30343542,\n",
       "        38.07419821,  10.35357191,  67.28725332,  35.74983309,\n",
       "        55.45944569,  91.30823453,  71.44337591,  60.13133298,\n",
       "        95.63444826,  73.38109802,   8.74674765,  78.79008525,\n",
       "        28.71342683,  69.45498498,  53.19294125,  -2.81991397,\n",
       "        73.38109802,  51.57326718,  50.17008622,  -2.7611826 ,\n",
       "        50.17008622,   6.99732472,  71.44337591,  18.99681823,\n",
       "        18.99681823,  -1.69242638,  16.0452578 ,  97.79086532,\n",
       "        18.99681823,  67.28725332,  57.0773846 ,  36.0760852 ,\n",
       "        49.57480328,  73.2300846 ,  62.71453064,  71.60961597,\n",
       "        38.07419821,  16.0452578 ,  62.51187787,  71.44337591,\n",
       "        14.03969618,  14.30030823,  39.59639727,  95.63444826,\n",
       "        69.45498498,  58.51434364,  16.0452578 ])"
      ]
     },
     "execution_count": 112,
     "metadata": {},
     "output_type": "execute_result"
    }
   ],
   "source": [
    "# Xây dựng mô hình dự báo KNN với k = 7 và độ đo l2 nomp\n",
    "model = neighbors.KNeighborsRegressor(n_neighbors=7, p = 2, weights='distance')\n",
    "model.fit(X_train.reshape(-1,1), y_train)\n",
    "\n",
    "# dự báo giá trị y của tập test\n",
    "y_pred = model.predict(X_test.reshape(-1,1))\n",
    "y_pred"
   ]
  },
  {
   "cell_type": "code",
   "execution_count": 113,
   "metadata": {},
   "outputs": [
    {
     "data": {
      "text/plain": [
       "array([ 97.41206981,  17.76197116,  97.70342201,  99.78687252,\n",
       "        30.49412933, 101.0697879 ,  56.14834113, 105.5918375 ,\n",
       "         5.3136862 ,  25.69041546,  37.08457698,  78.04237454,\n",
       "        91.36566374,  60.91792707,   0.67607675,  78.31056542,\n",
       "        24.18437976,  23.52647153,  48.35172635,  30.41303282,\n",
       "        54.08170635,  51.80035866,  67.38654703,  85.45504157,\n",
       "        52.28620611,  46.56141773,  64.37521087,  75.07484683,\n",
       "        40.00709598,  12.07991648,  65.01324035,  29.38505024,\n",
       "        57.01631363,  91.69240746,  69.39858505,  63.29717058,\n",
       "        94.79081712,  70.34969772,   5.6340309 ,  73.9308764 ,\n",
       "        26.49487961,  67.22008001,  55.81628509,  -1.63296825,\n",
       "        72.86282528,  53.11628433,  60.20758349,   0.27530726,\n",
       "        53.62235225,   2.81141583,  77.9969477 ,  16.68715211,\n",
       "        16.74923937,  -3.46788379,  21.42637785,  99.87382707,\n",
       "        11.21710477,  70.3698748 ,  53.32005764,  47.49374765,\n",
       "        51.69967172,  74.25362837,  67.68142149,  77.22982636,\n",
       "        34.12473248,  17.44047622,  58.61466887,  68.11367147,\n",
       "         9.80523488,  15.49301141,  48.09843134,  97.27405461,\n",
       "        67.01715955,  62.22635684,  19.38780134])"
      ]
     },
     "execution_count": 113,
     "metadata": {},
     "output_type": "execute_result"
    }
   ],
   "source": [
    "y_test"
   ]
  },
  {
   "cell_type": "code",
   "execution_count": 116,
   "metadata": {},
   "outputs": [
    {
     "name": "stdout",
     "output_type": "stream",
     "text": [
      "accuracy: 0.9798072111270179\n",
      "R2: 0.9798072111270179\n"
     ]
    }
   ],
   "source": [
    "# Độ chính xác bằng: 97.98%\n",
    "\n",
    "print(\"accuracy:\", model.score(X_test.reshape(-1,1), y_test))\n",
    "print(\"R2:\", metrics.r2_score(y_test, y_pred.reshape(-1,1)))\n",
    "# print(\"F1_score:\", metrics.f1_score(y_test, y_pred))"
   ]
  },
  {
   "cell_type": "code",
   "execution_count": null,
   "metadata": {},
   "outputs": [],
   "source": []
  }
 ],
 "metadata": {
  "kernelspec": {
   "display_name": "base",
   "language": "python",
   "name": "python3"
  },
  "language_info": {
   "codemirror_mode": {
    "name": "ipython",
    "version": 3
   },
   "file_extension": ".py",
   "mimetype": "text/x-python",
   "name": "python",
   "nbconvert_exporter": "python",
   "pygments_lexer": "ipython3",
   "version": "3.9.13"
  },
  "orig_nbformat": 4
 },
 "nbformat": 4,
 "nbformat_minor": 2
}
